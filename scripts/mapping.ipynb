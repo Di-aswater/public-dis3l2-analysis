{
 "cells": [
  {
   "cell_type": "code",
   "execution_count": 2,
   "metadata": {},
   "outputs": [
    {
     "name": "stdout",
     "output_type": "stream",
     "text": [
      "Populating the interactive namespace from numpy and matplotlib\n"
     ]
    }
   ],
   "source": [
    "import pandas as pd\n",
    "import os\n",
    "import glob\n",
    "import matplotlib.pyplot as plt\n",
    "import plotnine as p9\n",
    "%pylab inline\n",
    "\n",
    "from id_features_pandas import id_genes_sam"
   ]
  },
  {
   "cell_type": "code",
   "execution_count": 3,
   "metadata": {},
   "outputs": [
    {
     "data": {
      "text/plain": [
       "'../../../../backupOfSeqFiles/gtfFiles/Mus102_ERCC.gtf'"
      ]
     },
     "execution_count": 3,
     "metadata": {},
     "output_type": "execute_result"
    }
   ],
   "source": [
    "sam_list = glob.glob(\"../raw/paiso_sam/*.sam\")\n",
    "sam_list\n",
    "# gtf_file = \"../ref/Mus102_ERCC.gtf\"\n",
    "gtf_file = \"../../../../backupOfSeqFiles/gtfFiles/Mus102_ERCC.gtf\"\n",
    "gtf_file"
   ]
  },
  {
   "cell_type": "code",
   "execution_count": 8,
   "metadata": {
    "scrolled": false
   },
   "outputs": [
    {
     "name": "stdout",
     "output_type": "stream",
     "text": [
      "Time cost processing 7269 SAM records is: 32.851375102996826 seconds.\n",
      "Time cost processing 6120 SAM records is: 27.142173051834106 seconds.\n",
      "Time cost processing 35306 SAM records is: 148.15588092803955 seconds.\n",
      "Time cost processing 5319 SAM records is: 22.882115125656128 seconds.\n",
      "Time cost processing 1814 SAM records is: 7.878712892532349 seconds.\n",
      "Time cost processing 3453 SAM records is: 15.129994869232178 seconds.\n",
      "Time cost processing 479 SAM records is: 2.770564079284668 seconds.\n",
      "Time cost processing 4938 SAM records is: 20.421170949935913 seconds.\n",
      "Time cost processing 26177 SAM records is: 108.40538597106934 seconds.\n",
      "Time cost processing 7576 SAM records is: 31.350977182388306 seconds.\n",
      "Time cost processing 6977 SAM records is: 29.802164793014526 seconds.\n",
      "Time cost processing 10557 SAM records is: 43.833434104919434 seconds.\n",
      "Time cost processing 3388 SAM records is: 14.452669143676758 seconds.\n",
      "Time cost processing 10927 SAM records is: 44.55461406707764 seconds.\n",
      "Time cost processing 542 SAM records is: 2.9804389476776123 seconds.\n",
      "Time cost processing 1281 SAM records is: 6.185091733932495 seconds.\n",
      "Time cost processing 691 SAM records is: 3.5466129779815674 seconds.\n",
      "Time cost processing 9412 SAM records is: 38.80305790901184 seconds.\n",
      "Time cost processing 719 SAM records is: 3.6649458408355713 seconds.\n",
      "Time cost processing 195 SAM records is: 1.6887538433074951 seconds.\n",
      "Time cost processing 3943 SAM records is: 16.840580224990845 seconds.\n",
      "Time cost processing 20422 SAM records is: 92.68215918540955 seconds.\n",
      "Time cost processing 9576 SAM records is: 41.27364206314087 seconds.\n",
      "Time cost processing 3828 SAM records is: 17.043380975723267 seconds.\n",
      "Time cost processing 1037 SAM records is: 5.103811025619507 seconds.\n",
      "Time cost processing 19043 SAM records is: 78.33980202674866 seconds.\n",
      "Time cost processing 482 SAM records is: 2.758486032485962 seconds.\n",
      "Time cost processing 21590 SAM records is: 89.23770093917847 seconds.\n",
      "Time cost processing 1127 SAM records is: 5.330677032470703 seconds.\n",
      "Time cost processing 11843 SAM records is: 49.91366386413574 seconds.\n",
      "Time cost processing 32463 SAM records is: 133.7543981075287 seconds.\n",
      "Time cost processing 588 SAM records is: 3.12716007232666 seconds.\n",
      "Time cost processing 415 SAM records is: 2.501314878463745 seconds.\n",
      "Time cost processing 510 SAM records is: 3.041456937789917 seconds.\n",
      "Time cost processing 278 SAM records is: 1.886441946029663 seconds.\n",
      "Time cost processing 1143 SAM records is: 5.396147012710571 seconds.\n",
      "Time cost processing 39195 SAM records is: 161.39148092269897 seconds.\n",
      "Time cost processing 46964 SAM records is: 192.03564620018005 seconds.\n",
      "Time cost processing 34203 SAM records is: 145.3928508758545 seconds.\n",
      "Time cost processing 316 SAM records is: 2.106250047683716 seconds.\n",
      "Time cost processing 5557 SAM records is: 23.730522871017456 seconds.\n",
      "Time cost processing 155 SAM records is: 1.425795078277588 seconds.\n"
     ]
    }
   ],
   "source": [
    "# write the mapped csv file into the sam folder\n",
    "for sam_file in sam_list:\n",
    "    id_genes_sam(sam_file, gtf_file, n_processes=4)"
   ]
  }
 ],
 "metadata": {
  "kernelspec": {
   "display_name": "Python 3",
   "language": "python",
   "name": "python3"
  },
  "language_info": {
   "codemirror_mode": {
    "name": "ipython",
    "version": 3
   },
   "file_extension": ".py",
   "mimetype": "text/x-python",
   "name": "python",
   "nbconvert_exporter": "python",
   "pygments_lexer": "ipython3",
   "version": "3.7.4"
  }
 },
 "nbformat": 4,
 "nbformat_minor": 2
}
