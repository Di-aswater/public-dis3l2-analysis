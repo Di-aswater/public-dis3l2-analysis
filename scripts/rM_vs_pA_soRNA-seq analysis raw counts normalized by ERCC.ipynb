{
 "cells": [
  {
   "cell_type": "code",
   "execution_count": 1,
   "metadata": {},
   "outputs": [
    {
     "name": "stdout",
     "output_type": "stream",
     "text": [
      "Populating the interactive namespace from numpy and matplotlib\n"
     ]
    }
   ],
   "source": [
    "import pandas as pd\n",
    "import os\n",
    "import glob\n",
    "import matplotlib.pyplot as plt\n",
    "import plotnine as p9\n",
    "%pylab inline"
   ]
  },
  {
   "cell_type": "code",
   "execution_count": 2,
   "metadata": {},
   "outputs": [],
   "source": [
    "# To analyze the correlation between pA and rM soRNA-seq.\n",
    "# Align the ERCC normalized raw counts of each gene in each method. \n",
    "# Output: the dot plot of raw counts in pA and in rM, in ctr and in cKO"
   ]
  },
  {
   "cell_type": "code",
   "execution_count": 3,
   "metadata": {},
   "outputs": [
    {
     "data": {
      "text/html": [
       "<div>\n",
       "<style scoped>\n",
       "    .dataframe tbody tr th:only-of-type {\n",
       "        vertical-align: middle;\n",
       "    }\n",
       "\n",
       "    .dataframe tbody tr th {\n",
       "        vertical-align: top;\n",
       "    }\n",
       "\n",
       "    .dataframe thead th {\n",
       "        text-align: right;\n",
       "    }\n",
       "</style>\n",
       "<table border=\"1\" class=\"dataframe\">\n",
       "  <thead>\n",
       "    <tr style=\"text-align: right;\">\n",
       "      <th></th>\n",
       "      <th>ctr_means</th>\n",
       "      <th>cKO_means</th>\n",
       "    </tr>\n",
       "  </thead>\n",
       "  <tbody>\n",
       "    <tr>\n",
       "      <td>ENSMUSG00000000001</td>\n",
       "      <td>56.259849</td>\n",
       "      <td>56.178530</td>\n",
       "    </tr>\n",
       "    <tr>\n",
       "      <td>ENSMUSG00000000003</td>\n",
       "      <td>0.000000</td>\n",
       "      <td>0.000000</td>\n",
       "    </tr>\n",
       "    <tr>\n",
       "      <td>ENSMUSG00000000028</td>\n",
       "      <td>28.425895</td>\n",
       "      <td>31.593488</td>\n",
       "    </tr>\n",
       "    <tr>\n",
       "      <td>ENSMUSG00000000031</td>\n",
       "      <td>0.022196</td>\n",
       "      <td>0.009857</td>\n",
       "    </tr>\n",
       "    <tr>\n",
       "      <td>ENSMUSG00000000037</td>\n",
       "      <td>117.991650</td>\n",
       "      <td>88.138694</td>\n",
       "    </tr>\n",
       "    <tr>\n",
       "      <td>...</td>\n",
       "      <td>...</td>\n",
       "      <td>...</td>\n",
       "    </tr>\n",
       "    <tr>\n",
       "      <td>ENSMUSG00000118655</td>\n",
       "      <td>0.000000</td>\n",
       "      <td>0.000000</td>\n",
       "    </tr>\n",
       "    <tr>\n",
       "      <td>ENSMUSG00000118656</td>\n",
       "      <td>0.000000</td>\n",
       "      <td>0.000000</td>\n",
       "    </tr>\n",
       "    <tr>\n",
       "      <td>ENSMUSG00000118657</td>\n",
       "      <td>0.000000</td>\n",
       "      <td>0.000000</td>\n",
       "    </tr>\n",
       "    <tr>\n",
       "      <td>ENSMUSG00000118658</td>\n",
       "      <td>0.000000</td>\n",
       "      <td>0.000000</td>\n",
       "    </tr>\n",
       "    <tr>\n",
       "      <td>ENSMUSG00000118659</td>\n",
       "      <td>0.000000</td>\n",
       "      <td>0.000000</td>\n",
       "    </tr>\n",
       "  </tbody>\n",
       "</table>\n",
       "<p>55487 rows × 2 columns</p>\n",
       "</div>"
      ],
      "text/plain": [
       "                     ctr_means  cKO_means\n",
       "ENSMUSG00000000001   56.259849  56.178530\n",
       "ENSMUSG00000000003    0.000000   0.000000\n",
       "ENSMUSG00000000028   28.425895  31.593488\n",
       "ENSMUSG00000000031    0.022196   0.009857\n",
       "ENSMUSG00000000037  117.991650  88.138694\n",
       "...                        ...        ...\n",
       "ENSMUSG00000118655    0.000000   0.000000\n",
       "ENSMUSG00000118656    0.000000   0.000000\n",
       "ENSMUSG00000118657    0.000000   0.000000\n",
       "ENSMUSG00000118658    0.000000   0.000000\n",
       "ENSMUSG00000118659    0.000000   0.000000\n",
       "\n",
       "[55487 rows x 2 columns]"
      ]
     },
     "execution_count": 3,
     "metadata": {},
     "output_type": "execute_result"
    }
   ],
   "source": [
    "# solo rM-seq, yg samples raw counts\n",
    "df_rM_GV = pd.read_csv(\"../raw/RNAseq/rM_rawCounts.csv\",sep=' ')\n",
    "df_rM_GV\n",
    "\n",
    "# only get ERCC:\n",
    "df_rM_GV_ERCC = df_rM_GV[df_rM_GV.index.str.startswith('ERCC')]\n",
    "df_rM_GV_ERCC\n",
    "\n",
    "# only get genes without ERCC:\n",
    "df_rM_GV = df_rM_GV[df_rM_GV.index.str.startswith('ENSM')]\n",
    "df_rM_GV\n",
    "\n",
    "\n",
    "# each count normalized by ERCC.mean:\n",
    "df_rM_GV_norm = df_rM_GV.div(df_rM_GV_ERCC.mean(axis=0),axis=1)\n",
    "df_rM_GV_norm\n",
    "\n",
    "# get rowMeans of ctr and cKO:\n",
    "df_rM_GV_norm['ctr_means'] = df_rM_GV_norm.loc[:,df_rM_GV_norm.columns.str.startswith('dis3l2_yg_ctr')].sum(axis=1)\n",
    "df_rM_GV_norm['cKO_means'] = df_rM_GV_norm.loc[:,df_rM_GV_norm.columns.str.startswith('dis3l2_yg_cKO')].sum(axis=1)\n",
    "\n",
    "df_rM_GV_norm_simple = df_rM_GV_norm[['ctr_means','cKO_means']]\n",
    "df_rM_GV_norm_simple\n"
   ]
  },
  {
   "cell_type": "code",
   "execution_count": 5,
   "metadata": {},
   "outputs": [
    {
     "data": {
      "text/html": [
       "<div>\n",
       "<style scoped>\n",
       "    .dataframe tbody tr th:only-of-type {\n",
       "        vertical-align: middle;\n",
       "    }\n",
       "\n",
       "    .dataframe tbody tr th {\n",
       "        vertical-align: top;\n",
       "    }\n",
       "\n",
       "    .dataframe thead th {\n",
       "        text-align: right;\n",
       "    }\n",
       "</style>\n",
       "<table border=\"1\" class=\"dataframe\">\n",
       "  <thead>\n",
       "    <tr style=\"text-align: right;\">\n",
       "      <th></th>\n",
       "      <th>ctr_means</th>\n",
       "      <th>cKO_means</th>\n",
       "    </tr>\n",
       "  </thead>\n",
       "  <tbody>\n",
       "    <tr>\n",
       "      <td>ENSMUSG00000000001</td>\n",
       "      <td>33.405648</td>\n",
       "      <td>27.191902</td>\n",
       "    </tr>\n",
       "    <tr>\n",
       "      <td>ENSMUSG00000000003</td>\n",
       "      <td>0.000000</td>\n",
       "      <td>0.000000</td>\n",
       "    </tr>\n",
       "    <tr>\n",
       "      <td>ENSMUSG00000000028</td>\n",
       "      <td>7.344158</td>\n",
       "      <td>6.984271</td>\n",
       "    </tr>\n",
       "    <tr>\n",
       "      <td>ENSMUSG00000000031</td>\n",
       "      <td>0.000000</td>\n",
       "      <td>0.022479</td>\n",
       "    </tr>\n",
       "    <tr>\n",
       "      <td>ENSMUSG00000000037</td>\n",
       "      <td>23.222680</td>\n",
       "      <td>8.567202</td>\n",
       "    </tr>\n",
       "    <tr>\n",
       "      <td>...</td>\n",
       "      <td>...</td>\n",
       "      <td>...</td>\n",
       "    </tr>\n",
       "    <tr>\n",
       "      <td>ENSMUSG00000118655</td>\n",
       "      <td>0.003032</td>\n",
       "      <td>0.000000</td>\n",
       "    </tr>\n",
       "    <tr>\n",
       "      <td>ENSMUSG00000118656</td>\n",
       "      <td>0.000000</td>\n",
       "      <td>0.000000</td>\n",
       "    </tr>\n",
       "    <tr>\n",
       "      <td>ENSMUSG00000118657</td>\n",
       "      <td>0.000000</td>\n",
       "      <td>0.000000</td>\n",
       "    </tr>\n",
       "    <tr>\n",
       "      <td>ENSMUSG00000118658</td>\n",
       "      <td>0.000000</td>\n",
       "      <td>0.000000</td>\n",
       "    </tr>\n",
       "    <tr>\n",
       "      <td>ENSMUSG00000118659</td>\n",
       "      <td>0.000000</td>\n",
       "      <td>0.000000</td>\n",
       "    </tr>\n",
       "  </tbody>\n",
       "</table>\n",
       "<p>55487 rows × 2 columns</p>\n",
       "</div>"
      ],
      "text/plain": [
       "                    ctr_means  cKO_means\n",
       "ENSMUSG00000000001  33.405648  27.191902\n",
       "ENSMUSG00000000003   0.000000   0.000000\n",
       "ENSMUSG00000000028   7.344158   6.984271\n",
       "ENSMUSG00000000031   0.000000   0.022479\n",
       "ENSMUSG00000000037  23.222680   8.567202\n",
       "...                       ...        ...\n",
       "ENSMUSG00000118655   0.003032   0.000000\n",
       "ENSMUSG00000118656   0.000000   0.000000\n",
       "ENSMUSG00000118657   0.000000   0.000000\n",
       "ENSMUSG00000118658   0.000000   0.000000\n",
       "ENSMUSG00000118659   0.000000   0.000000\n",
       "\n",
       "[55487 rows x 2 columns]"
      ]
     },
     "execution_count": 5,
     "metadata": {},
     "output_type": "execute_result"
    }
   ],
   "source": [
    "# pA-seq, yg samples raw counts\n",
    "df_pA_GV = pd.read_csv(\"../raw/RNAseq/pA_rawCounts_gene.csv\",sep=' ')\n",
    "df_pA_GV\n",
    "\n",
    "# only get genes at GV stage\n",
    "df_pA_GV = df_pA_GV.loc[:,df_pA_GV.columns.str.startswith('dis3l2GV')]\n",
    "df_pA_GV.columns = df_pA_GV.columns.str.replace('_filtered_genes_no.txt','')\n",
    "\n",
    "# only get ERCC:\n",
    "df_pA_GV_ERCC = pd.read_csv(\"../raw/RNAseq/pA_rawCounts_ERCC.csv\",sep=' ')\n",
    "df_pA_GV_ERCC\n",
    "\n",
    "# only get genes at GV stage\n",
    "df_pA_GV_ERCC = df_pA_GV_ERCC.loc[:,df_pA_GV_ERCC.columns.str.startswith('dis3l2GV')]\n",
    "df_pA_GV_ERCC.columns = df_pA_GV_ERCC.columns.str.replace('_ERCC_count.txt','')\n",
    "\n",
    "\n",
    "# each count normalized by ERCC.mean:\n",
    "df_pA_GV_norm = df_pA_GV.div(df_pA_GV_ERCC.mean(axis=0),axis=1)\n",
    "df_pA_GV_norm\n",
    "\n",
    "\n",
    "# get rowMeans of ctr and cKO:\n",
    "df_pA_GV_norm['ctr_means'] = df_pA_GV_norm.loc[:,df_pA_GV_norm.columns.str.startswith('dis3l2GV_ctr')].sum(axis=1)\n",
    "df_pA_GV_norm['cKO_means'] = df_pA_GV_norm.loc[:,df_pA_GV_norm.columns.str.startswith('dis3l2GV_cKO')].sum(axis=1)\n",
    "\n",
    "df_pA_GV_norm_simple = df_pA_GV_norm[['ctr_means','cKO_means']]\n",
    "df_pA_GV_norm_simple"
   ]
  },
  {
   "cell_type": "code",
   "execution_count": 6,
   "metadata": {},
   "outputs": [
    {
     "data": {
      "text/html": [
       "<div>\n",
       "<style scoped>\n",
       "    .dataframe tbody tr th:only-of-type {\n",
       "        vertical-align: middle;\n",
       "    }\n",
       "\n",
       "    .dataframe tbody tr th {\n",
       "        vertical-align: top;\n",
       "    }\n",
       "\n",
       "    .dataframe thead th {\n",
       "        text-align: right;\n",
       "    }\n",
       "</style>\n",
       "<table border=\"1\" class=\"dataframe\">\n",
       "  <thead>\n",
       "    <tr style=\"text-align: right;\">\n",
       "      <th></th>\n",
       "      <th>ctr_rM</th>\n",
       "      <th>cKO_rM</th>\n",
       "      <th>ctr_pA</th>\n",
       "      <th>cKO_pA</th>\n",
       "    </tr>\n",
       "  </thead>\n",
       "  <tbody>\n",
       "    <tr>\n",
       "      <td>0</td>\n",
       "      <td>1.757850</td>\n",
       "      <td>1.757233</td>\n",
       "      <td>1.536630</td>\n",
       "      <td>1.450124</td>\n",
       "    </tr>\n",
       "    <tr>\n",
       "      <td>1</td>\n",
       "      <td>0.000000</td>\n",
       "      <td>0.000000</td>\n",
       "      <td>0.000000</td>\n",
       "      <td>0.000000</td>\n",
       "    </tr>\n",
       "    <tr>\n",
       "      <td>2</td>\n",
       "      <td>1.468730</td>\n",
       "      <td>1.513131</td>\n",
       "      <td>0.921383</td>\n",
       "      <td>0.902235</td>\n",
       "    </tr>\n",
       "    <tr>\n",
       "      <td>3</td>\n",
       "      <td>0.009534</td>\n",
       "      <td>0.004260</td>\n",
       "      <td>0.000000</td>\n",
       "      <td>0.009654</td>\n",
       "    </tr>\n",
       "    <tr>\n",
       "      <td>4</td>\n",
       "      <td>2.075516</td>\n",
       "      <td>1.950066</td>\n",
       "      <td>1.384222</td>\n",
       "      <td>0.980785</td>\n",
       "    </tr>\n",
       "    <tr>\n",
       "      <td>...</td>\n",
       "      <td>...</td>\n",
       "      <td>...</td>\n",
       "      <td>...</td>\n",
       "      <td>...</td>\n",
       "    </tr>\n",
       "    <tr>\n",
       "      <td>55482</td>\n",
       "      <td>0.000000</td>\n",
       "      <td>0.000000</td>\n",
       "      <td>0.001315</td>\n",
       "      <td>0.000000</td>\n",
       "    </tr>\n",
       "    <tr>\n",
       "      <td>55483</td>\n",
       "      <td>0.000000</td>\n",
       "      <td>0.000000</td>\n",
       "      <td>0.000000</td>\n",
       "      <td>0.000000</td>\n",
       "    </tr>\n",
       "    <tr>\n",
       "      <td>55484</td>\n",
       "      <td>0.000000</td>\n",
       "      <td>0.000000</td>\n",
       "      <td>0.000000</td>\n",
       "      <td>0.000000</td>\n",
       "    </tr>\n",
       "    <tr>\n",
       "      <td>55485</td>\n",
       "      <td>0.000000</td>\n",
       "      <td>0.000000</td>\n",
       "      <td>0.000000</td>\n",
       "      <td>0.000000</td>\n",
       "    </tr>\n",
       "    <tr>\n",
       "      <td>55486</td>\n",
       "      <td>0.000000</td>\n",
       "      <td>0.000000</td>\n",
       "      <td>0.000000</td>\n",
       "      <td>0.000000</td>\n",
       "    </tr>\n",
       "  </tbody>\n",
       "</table>\n",
       "<p>55487 rows × 4 columns</p>\n",
       "</div>"
      ],
      "text/plain": [
       "         ctr_rM    cKO_rM    ctr_pA    cKO_pA\n",
       "0      1.757850  1.757233  1.536630  1.450124\n",
       "1      0.000000  0.000000  0.000000  0.000000\n",
       "2      1.468730  1.513131  0.921383  0.902235\n",
       "3      0.009534  0.004260  0.000000  0.009654\n",
       "4      2.075516  1.950066  1.384222  0.980785\n",
       "...         ...       ...       ...       ...\n",
       "55482  0.000000  0.000000  0.001315  0.000000\n",
       "55483  0.000000  0.000000  0.000000  0.000000\n",
       "55484  0.000000  0.000000  0.000000  0.000000\n",
       "55485  0.000000  0.000000  0.000000  0.000000\n",
       "55486  0.000000  0.000000  0.000000  0.000000\n",
       "\n",
       "[55487 rows x 4 columns]"
      ]
     },
     "execution_count": 6,
     "metadata": {},
     "output_type": "execute_result"
    }
   ],
   "source": [
    "# merge two df:\n",
    "df_rM_pA_GV = pd.merge(left=df_rM_GV_norm_simple, right=df_pA_GV_norm_simple, \n",
    "                       left_on=df_rM_GV_norm_simple.index,right_on=df_pA_GV_norm_simple.index)\n",
    "df_rM_pA_GV\n",
    "df_rM_pA_GV.columns = ['id','ctr_rM','cKO_rM','ctr_pA','cKO_pA']\n",
    "df_rM_pA_GV = df_rM_pA_GV.loc[:, ['ctr_rM','cKO_rM','ctr_pA','cKO_pA']]\n",
    "\n",
    "# add 1 and log10\n",
    "df_rM_pA_GV\n",
    "df_rM_pA_GV = log10(df_rM_pA_GV+1)\n",
    "df_rM_pA_GV"
   ]
  },
  {
   "cell_type": "code",
   "execution_count": 7,
   "metadata": {},
   "outputs": [
    {
     "data": {
      "text/plain": [
       "count    55487.000000\n",
       "mean         0.075138\n",
       "std          0.163141\n",
       "min          0.000000\n",
       "50%          0.001637\n",
       "95%          0.459982\n",
       "max          1.803235\n",
       "Name: ctr_diff, dtype: float64"
      ]
     },
     "execution_count": 7,
     "metadata": {},
     "output_type": "execute_result"
    }
   ],
   "source": [
    "# need define intersect value. now sure using log10.\n",
    "df_rM_pA_GV['ctr_diff'] = df_rM_pA_GV['ctr_rM']-df_rM_pA_GV['ctr_pA']\n",
    "df_rM_pA_GV['ctr_diff'].abs().describe(percentiles=[0.95])"
   ]
  },
  {
   "cell_type": "code",
   "execution_count": 17,
   "metadata": {},
   "outputs": [
    {
     "data": {
      "text/plain": [
       "ctr_rM      5237\n",
       "cKO_rM      5237\n",
       "ctr_pA      5237\n",
       "cKO_pA      5237\n",
       "ctr_diff    5237\n",
       "cKO_diff    5237\n",
       "dtype: int64"
      ]
     },
     "execution_count": 17,
     "metadata": {},
     "output_type": "execute_result"
    }
   ],
   "source": [
    "# get the Ctrl group, ribominus-biased genes:\n",
    "df_rM_pA_GV['cKO_diff'] = df_rM_pA_GV['cKO_rM']-df_rM_pA_GV['cKO_pA']\n",
    "df_rM_pA_GV[df_rM_pA_GV['cKO_diff'] >0.46].count()"
   ]
  },
  {
   "cell_type": "code",
   "execution_count": 9,
   "metadata": {},
   "outputs": [
    {
     "data": {
      "text/plain": [
       "52714"
      ]
     },
     "execution_count": 9,
     "metadata": {},
     "output_type": "execute_result"
    }
   ],
   "source": [
    "55487-2177-596"
   ]
  },
  {
   "cell_type": "code",
   "execution_count": 10,
   "metadata": {},
   "outputs": [
    {
     "data": {
      "text/plain": [
       "0.9500243300232487"
      ]
     },
     "execution_count": 10,
     "metadata": {},
     "output_type": "execute_result"
    }
   ],
   "source": [
    "52714/55487"
   ]
  },
  {
   "cell_type": "code",
   "execution_count": 16,
   "metadata": {},
   "outputs": [
    {
     "name": "stderr",
     "output_type": "stream",
     "text": [
      "/opt/anaconda3/lib/python3.7/site-packages/plotnine/ggplot.py:729: PlotnineWarning: Saving 4 x 4 in image.\n",
      "  from_inches(height, units), units), PlotnineWarning)\n",
      "/opt/anaconda3/lib/python3.7/site-packages/plotnine/ggplot.py:730: PlotnineWarning: Filename: ../results/pA_vs_rM_rawCounts_ctr_rMvspA.tiff\n",
      "  warn('Filename: {}'.format(filename), PlotnineWarning)\n"
     ]
    }
   ],
   "source": [
    "# plot df_rM_pA_GV\n",
    "intercept = 0.459982\n",
    "plot = (\n",
    "    p9.ggplot()\n",
    "    + p9.geom_point(df_rM_pA_GV, \n",
    "                  p9.aes(x='ctr_pA', y='ctr_rM'), size=2,alpha=0.02)\n",
    "#     + p9.geom_point(rM_specific, \n",
    "#                   p9.aes(x='log2FC_pA', y='log2FC_rM'), size=2,alpha=0.05,color = 'magenta')\n",
    "#     + p9.geom_point(pA_specific, \n",
    "#                   p9.aes(x='log2FC_pA', y='log2FC_rM'), size=2,alpha=0.05,color = 'blue')\n",
    "    \n",
    "#     + p9.scale_color_manual(breaks = 'group',\n",
    "#                            values = ['blue','magenta','gray'])\n",
    "\n",
    "    + p9.geom_abline(intercept = 0, slope = 1, linetype='dashed',color='gray',size=1)\n",
    "    + p9.geom_abline(intercept = intercept, slope = 1, linetype='dashed',color='red',size=2)\n",
    "    + p9.geom_abline(intercept = -intercept, slope = 1, linetype='dashed',color='blue',size=2)\n",
    "    + p9.geom_vline(xintercept = 0, linetype='dashed')\n",
    "    + p9.geom_hline(yintercept = 0, linetype='dashed')\n",
    "    + p9.theme(void)\n",
    "#     + p9.facet_wrap(\"genotype\")\n",
    "#     + p9.labs(title = 'ctr')\n",
    "    + p9.coord_fixed(ratio=1,xlim=(0,4),ylim=(0,4))\n",
    ")\n",
    "plot\n",
    "plot.save(\"../results/pA_vs_rM_rawCounts_\" + 'ctr_rMvspA'+ \".tiff\", height=4, width=4)\n"
   ]
  },
  {
   "cell_type": "code",
   "execution_count": 15,
   "metadata": {},
   "outputs": [
    {
     "name": "stderr",
     "output_type": "stream",
     "text": [
      "/opt/anaconda3/lib/python3.7/site-packages/plotnine/ggplot.py:729: PlotnineWarning: Saving 4 x 4 in image.\n",
      "  from_inches(height, units), units), PlotnineWarning)\n",
      "/opt/anaconda3/lib/python3.7/site-packages/plotnine/ggplot.py:730: PlotnineWarning: Filename: ../results/pA_vs_rM_rawCounts_cKO_rMvspA.tiff\n",
      "  warn('Filename: {}'.format(filename), PlotnineWarning)\n"
     ]
    }
   ],
   "source": [
    "# plot df_rM_pA_GV\n",
    "plot = (\n",
    "    p9.ggplot()\n",
    "    + p9.geom_point(df_rM_pA_GV, \n",
    "                  p9.aes(x='cKO_pA', y='cKO_rM'), size=2,alpha=0.02)\n",
    "#     + p9.geom_point(rM_specific, \n",
    "#                   p9.aes(x='log2FC_pA', y='log2FC_rM'), size=2,alpha=0.05,color = 'magenta')\n",
    "#     + p9.geom_point(pA_specific, \n",
    "#                   p9.aes(x='log2FC_pA', y='log2FC_rM'), size=2,alpha=0.05,color = 'blue')\n",
    "    \n",
    "#     + p9.scale_color_manual(breaks = 'group',\n",
    "#                            values = ['blue','magenta','gray'])\n",
    "\n",
    "    + p9.geom_abline(intercept = 0, slope = 1, linetype='dashed',color='gray',size=1)\n",
    "    + p9.geom_abline(intercept = intercept, slope = 1, linetype='dashed',color='red',size=2)\n",
    "    + p9.geom_abline(intercept = -intercept, slope = 1, linetype='dashed',color='blue',size=2)\n",
    "    + p9.geom_vline(xintercept = 0, linetype='dashed')\n",
    "    + p9.geom_hline(yintercept = 0, linetype='dashed')\n",
    "    + p9.theme(void)\n",
    "#     + p9.facet_wrap(\"genotype\")\n",
    "#     + p9.labs(title = 'cKO')\n",
    "    + p9.coord_fixed(ratio=1,xlim=(0,4),ylim=(0,4))\n",
    ")\n",
    "plot\n",
    "plot.save(\"../results/pA_vs_rM_rawCounts_\" + 'cKO_rMvspA'+ \".tiff\", height=4, width=4)\n"
   ]
  },
  {
   "cell_type": "code",
   "execution_count": 13,
   "metadata": {},
   "outputs": [],
   "source": [
    "# write to csv:\n",
    "df_rM_pA_GV_short.to_csv(\"../results/metadata/df_rM_pA_GV_short.csv\")"
   ]
  }
 ],
 "metadata": {
  "kernelspec": {
   "display_name": "Python 3",
   "language": "python",
   "name": "python3"
  },
  "language_info": {
   "codemirror_mode": {
    "name": "ipython",
    "version": 3
   },
   "file_extension": ".py",
   "mimetype": "text/x-python",
   "name": "python",
   "nbconvert_exporter": "python",
   "pygments_lexer": "ipython3",
   "version": "3.7.4"
  }
 },
 "nbformat": 4,
 "nbformat_minor": 2
}
