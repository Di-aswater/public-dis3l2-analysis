{
 "cells": [
  {
   "cell_type": "code",
   "execution_count": 3,
   "metadata": {},
   "outputs": [
    {
     "name": "stdout",
     "output_type": "stream",
     "text": [
      "Populating the interactive namespace from numpy and matplotlib\n"
     ]
    }
   ],
   "source": [
    "import pandas as pd\n",
    "import os\n",
    "import glob\n",
    "import matplotlib.pyplot as plt\n",
    "import plotnine as p9\n",
    "%pylab inline\n",
    "from get_sam_tails import get_sam_tails"
   ]
  },
  {
   "cell_type": "code",
   "execution_count": 4,
   "metadata": {},
   "outputs": [
    {
     "name": "stdout",
     "output_type": "stream",
     "text": [
      "Time cost processing 7269 SAM records is: 0.21766114234924316 seconds.\n",
      "Time cost processing 6120 SAM records is: 0.1866288185119629 seconds.\n",
      "Time cost processing 35306 SAM records is: 1.1857552528381348 seconds.\n",
      "Time cost processing 5319 SAM records is: 0.1941838264465332 seconds.\n",
      "Time cost processing 1814 SAM records is: 0.1631319522857666 seconds.\n",
      "Time cost processing 3453 SAM records is: 0.17746186256408691 seconds.\n",
      "Time cost processing 479 SAM records is: 0.1550910472869873 seconds.\n",
      "Time cost processing 4938 SAM records is: 0.1819772720336914 seconds.\n",
      "Time cost processing 26177 SAM records is: 0.6749310493469238 seconds.\n",
      "Time cost processing 7576 SAM records is: 0.20503020286560059 seconds.\n",
      "Time cost processing 6977 SAM records is: 0.2005476951599121 seconds.\n",
      "Time cost processing 10557 SAM records is: 0.47376322746276855 seconds.\n",
      "Time cost processing 3388 SAM records is: 0.1749429702758789 seconds.\n",
      "Time cost processing 10927 SAM records is: 0.34297609329223633 seconds.\n",
      "Time cost processing 542 SAM records is: 0.15446710586547852 seconds.\n",
      "Time cost processing 9412 SAM records is: 0.3311617374420166 seconds.\n",
      "Time cost processing 195 SAM records is: 0.15323901176452637 seconds.\n",
      "Time cost processing 3943 SAM records is: 0.21466660499572754 seconds.\n",
      "Time cost processing 20422 SAM records is: 0.8024349212646484 seconds.\n",
      "Time cost processing 9576 SAM records is: 0.3894808292388916 seconds.\n",
      "Time cost processing 3828 SAM records is: 0.1803739070892334 seconds.\n",
      "Time cost processing 19043 SAM records is: 0.5034658908843994 seconds.\n",
      "Time cost processing 482 SAM records is: 0.14756298065185547 seconds.\n",
      "Time cost processing 21590 SAM records is: 0.6662938594818115 seconds.\n",
      "Time cost processing 11843 SAM records is: 0.34677600860595703 seconds.\n",
      "Time cost processing 32463 SAM records is: 0.7048640251159668 seconds.\n",
      "Time cost processing 588 SAM records is: 0.1530609130859375 seconds.\n",
      "Time cost processing 510 SAM records is: 0.15342283248901367 seconds.\n",
      "Time cost processing 278 SAM records is: 0.14995408058166504 seconds.\n",
      "Time cost processing 39195 SAM records is: 1.0548360347747803 seconds.\n",
      "Time cost processing 46964 SAM records is: 1.0071749687194824 seconds.\n",
      "Time cost processing 34203 SAM records is: 0.905846118927002 seconds.\n",
      "Time cost processing 316 SAM records is: 0.14940905570983887 seconds.\n",
      "Time cost processing 5557 SAM records is: 0.1911296844482422 seconds.\n",
      "Time cost processing 155 SAM records is: 0.15393590927124023 seconds.\n"
     ]
    }
   ],
   "source": [
    "# this is to extract tail sequence by Cigar score, from get_sam_tails import get_sam_tails\n",
    "#done. use get_sam_tails to get the polyA tails through reading CIGAR score and subseting the reads.\n",
    "sam_list = glob.glob(\"../raw/paiso_sam/*.sam\")\n",
    "for sam_file in sam_list:\n",
    "    get_sam_tails(sam_file, n_processes=4, output_folder='../raw/paiso_unmapped_tails/')\n",
    "    "
   ]
  },
  {
   "cell_type": "code",
   "execution_count": 5,
   "metadata": {},
   "outputs": [],
   "source": [
    "get_sam_tails?"
   ]
  },
  {
   "cell_type": "code",
   "execution_count": null,
   "metadata": {},
   "outputs": [],
   "source": []
  }
 ],
 "metadata": {
  "kernelspec": {
   "display_name": "Python 3",
   "language": "python",
   "name": "python3"
  },
  "language_info": {
   "codemirror_mode": {
    "name": "ipython",
    "version": 3
   },
   "file_extension": ".py",
   "mimetype": "text/x-python",
   "name": "python",
   "nbconvert_exporter": "python",
   "pygments_lexer": "ipython3",
   "version": "3.7.4"
  }
 },
 "nbformat": 4,
 "nbformat_minor": 2
}
